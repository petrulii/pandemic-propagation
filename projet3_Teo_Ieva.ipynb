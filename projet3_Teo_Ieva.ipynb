{
 "cells": [
  {
   "cell_type": "markdown",
   "metadata": {},
   "source": [
    "# `LU3IN005 PROJET 3`\n",
    "# Propagation d’une épidémie\n",
    "\n",
    "L’objectif de ce projet est de manipuler des chaînes de Markov pour étudier la propagation d’une\n",
    "épidémie dans une population. Votre rendu sera un notebook, il est attendu que les codes soient\n",
    "commentés et les résultats interprétés."
   ]
  },
  {
   "cell_type": "code",
   "execution_count": 2,
   "metadata": {
    "ExecuteTime": {
     "end_time": "2019-03-20T14:34:12.727164Z",
     "start_time": "2019-03-20T14:34:12.433514Z"
    }
   },
   "outputs": [],
   "source": [
    "import matplotlib as mtpl   # library for creating static, animated and interactive visualizations in Python\n",
    "import random as rnd\n",
    "import pandas as pd         # package for high-performance, easy-to-use data structures and data analysis\n",
    "import numpy as np          # fundamental package for scientific computing with Python"
   ]
  },
  {
   "source": [
    "\n",
    "<div style=\"width:600px;float:center;margin:0 10px 10px 0\">\n",
    "    <img src=\"1.png\">\n",
    "</div>\n",
    "\n",
    "## `1` Description du modèle\n",
    "Dans le modèle SIR , un individu est initialement sain S, peut devenir infecté I puis être guéri\n",
    "R. La probabilité pour un individu être dans un de ces 3 états au temps t, ne dépend que l’état dans\n",
    "lequel il est au temps t − 1.<br/><br/>\n",
    "Un individu dans l’état sain a une probabilité de 0.92 de rester sain et une probabilité de 0.08 de\n",
    "devenir infecté. Si l’individu est infecté, il peut le rester avec une probabilité de 0.93 et être guéri avec\n",
    "une probabilité de 0.07. S’il est dans l’état guéri, il reste dans cette état avec une probabilité de 1.<br/><br/>\n",
    "#### 1. Créez la matrice de transition A, la matrice contenant les probabilités de transition entre les différents états. Vérifiez que cette matrice est stochastique.\n",
    "\n",
    "$A$ is a marix of size $M \\times N$. $A_{(i,j)}$ is the probability of going from $j → i$. $A$ satisfies the following conditions:\n",
    "$\\forall i,j$ $A(i,j) ≥ 0$;\n",
    "$\\forall j$ $\\sum_{i=1}^{M} A(i,j) = 1$. Thus $A$ is a Stochastic Matrix."
   ],
   "cell_type": "markdown",
   "metadata": {}
  },
  {
   "cell_type": "code",
   "execution_count": 3,
   "metadata": {},
   "outputs": [
    {
     "output_type": "stream",
     "name": "stdout",
     "text": [
      "[[0.92 0.   0.  ]\n [0.08 0.93 0.  ]\n [0.   0.07 1.  ]]\n"
     ]
    }
   ],
   "source": [
    "# transition matrix A of size 3x3\n",
    "A = np.array([  [0.92,  0,      0],\n",
    "                [0.08,  0.93,   0],\n",
    "                [0,     0.07,   1]])\n",
    "                \n",
    "if np.sum(A) != 3 or np.any(A < 0):\n",
    "    print(\"Transition matrix is not Stochastic.\")\n",
    "else:\n",
    "    print(A)"
   ]
  },
  {
   "source": [
    "#### 2. Créez $\\pi_0$ la distribution de probabilité initiale. Nous allons regarder l’évolution du nombre d’individu sains, infectés et guéris au cours du temps. Au temps t = 0, un individu a une probabilité de 0.9 d’être sain et 0.1 d’être infecté.<br/>\n",
    "\n",
    "We note $v_0 = \\pi_0$ the probability vector which represents the initial state of the Markov chain, the $i_{th}$ component of $v_0$ represents the probability that the chain starts in state $s_i$."
   ],
   "cell_type": "markdown",
   "metadata": {}
  },
  {
   "cell_type": "code",
   "execution_count": 4,
   "metadata": {},
   "outputs": [],
   "source": [
    "# v0 is a probability vector which represents the initial state of the Markov chain\n",
    "v0 = np.array([0.9, 0.1, 0])"
   ]
  },
  {
   "source": [
    "### `1.1` Tirage aléatoire des états\n",
    "Vous allez générer une séquence de taille T en utilisant cette chaîne de Markov.<br/>Pour générer\n",
    "une séquence aléatoire:<br/>Choisissiez un état initial au hasard (en utilisant Π0) ;<br/>Puis choisissez les états\n",
    "suivants en suivant les probabilités de transition (= la matrice de transition A).<br/>\n",
    "Vous pouvez prendre T=50."
   ],
   "cell_type": "markdown",
   "metadata": {}
  },
  {
   "cell_type": "code",
   "execution_count": 104,
   "metadata": {},
   "outputs": [
    {
     "output_type": "execute_result",
     "data": {
      "text/plain": [
       "0"
      ]
     },
     "metadata": {},
     "execution_count": 104
    }
   ],
   "source": [
    "v0_sum = np.cumsum(v0)\n",
    "np.argwhere(v0_sum >= rnd.random())[0,0]"
   ]
  },
  {
   "cell_type": "code",
   "execution_count": 156,
   "metadata": {},
   "outputs": [
    {
     "output_type": "execute_result",
     "data": {
      "text/plain": [
       "[0,\n",
       " 0,\n",
       " 0,\n",
       " 0,\n",
       " 1,\n",
       " 1,\n",
       " 1,\n",
       " 1,\n",
       " 1,\n",
       " 1,\n",
       " 1,\n",
       " 1,\n",
       " 1,\n",
       " 2,\n",
       " 2,\n",
       " 2,\n",
       " 2,\n",
       " 2,\n",
       " 2,\n",
       " 2,\n",
       " 2,\n",
       " 2,\n",
       " 2,\n",
       " 2,\n",
       " 2,\n",
       " 2,\n",
       " 2,\n",
       " 2,\n",
       " 2,\n",
       " 2,\n",
       " 2,\n",
       " 2,\n",
       " 2,\n",
       " 2,\n",
       " 2,\n",
       " 2,\n",
       " 2,\n",
       " 2,\n",
       " 2,\n",
       " 2,\n",
       " 2,\n",
       " 2,\n",
       " 2,\n",
       " 2,\n",
       " 2,\n",
       " 2,\n",
       " 2,\n",
       " 2,\n",
       " 2,\n",
       " 2,\n",
       " 2]"
      ]
     },
     "metadata": {},
     "execution_count": 156
    }
   ],
   "source": [
    "v0_sum = np.cumsum(v0)\n",
    "\n",
    "def tirage_aleatoire(T):\n",
    "    etat_courant = np.argwhere(v0_sum >= rnd.random())[0,0]\n",
    "\n",
    "    state_chain = [etat_courant]                    # to store the chain\n",
    "    for i in range(T):\n",
    "        transition_prob = np.cumsum(A[:, etat_courant])\n",
    "        etat_courant = np.argwhere(transition_prob >= rnd.random())[0,0] # transition to a state with the highest transition probability\n",
    "        state_chain.append(etat_courant)            # add the state to the chain\n",
    "    return state_chain\n",
    "\n",
    "# function that produces a state chain for a given T\n",
    "tirage_aleatoire(50)"
   ]
  },
  {
   "source": [
    "### `1.2` Modélisation d’une population\n",
    "Vous avez généré une séquence d’état pour un individu. Maintenant vous allez générer un ensemble\n",
    "de séquence pour une population de 20000 individus. <br/>(Si c’est trop long vous pouvez prendre moins\n",
    "d’individus.)<br/><br/>\n",
    "1. A chaque temps t, comptez le nombre d’individus sains, infectés et guéris dans la population et\n",
    "affichez l’évolution du nombre d’individus dans les trois états en fonction du temps.<br/><br/>\n",
    "2. Quand t est grand, quel est la proportion d’individus sains, infectés et guéris ?"
   ],
   "cell_type": "markdown",
   "metadata": {}
  },
  {
   "cell_type": "code",
   "execution_count": 157,
   "metadata": {
    "tags": []
   },
   "outputs": [],
   "source": [
    "a = np.array([tirage_aleatoire(50) for _ in range(20000)])"
   ]
  },
  {
   "cell_type": "code",
   "execution_count": 161,
   "metadata": {},
   "outputs": [],
   "source": [
    "count = np.zeros((3, a.shape[1]))"
   ]
  },
  {
   "cell_type": "code",
   "execution_count": 163,
   "metadata": {},
   "outputs": [],
   "source": [
    "import matplotlib.pyplot as plt"
   ]
  },
  {
   "cell_type": "code",
   "execution_count": null,
   "metadata": {},
   "outputs": [],
   "source": [
    "for j in range(a.shape[1]):\n",
    "    count[0, j] = len(np.where(a[:,j] == 0)[0])\n",
    "    count[1, j] = len(np.where(a[:,j] == 1)[0])\n",
    "    count[2, j] = len(np.where(a[:,j] == 2)[0])\n",
    "x = [i for i in range(51)]\n",
    "plt.plot(count[0, :], )"
   ]
  },
  {
   "source": [
    "### `1.3` Pic de l’épidémie\n",
    "1. Au pic de l’épidémie, combien d’individus sont infectés ? A quel temps se produit le pic ?"
   ],
   "cell_type": "markdown",
   "metadata": {}
  },
  {
   "source": [
    "### `1.4` Longueur de l’infection\n",
    "1. À partir des simulations, estimer la longueur moyenne d’une séquence de I<br/><br/>\n",
    "2. Calculer théoriquement la longueur d’une séquence de I en fonction de la probabilité de rester\n",
    "infecté, si on est infecté au temps précédent (vous pourrez utiliser l’espérance de la loi géométrique)."
   ],
   "cell_type": "markdown",
   "metadata": {}
  },
  {
   "cell_type": "code",
   "execution_count": null,
   "metadata": {},
   "outputs": [],
   "source": [
    "code"
   ]
  },
  {
   "source": [
    "## `2` Modèle ergodique\n",
    "Nous allons maintenant considérer un second modèle, les individus guéris peuvent redevenir sains<br/>\n",
    "avec une probabilité de 0.04. Ils-elles peuvent perdre leur immunité face à la maladie.<br/><br/>\n",
    "1. Créez la nouvelle matrice de transition, et les nouvelles simulations, comment la population évoluet-elle si un individu guérit peut redevenir infecté ?<br/><br/>\n",
    "2. Refaire les simulations avec une autre distribution de probabilité initiale, par exemple si au temps<br/>\n",
    "t = 0, nous avons 90% d’infectés et 10% de sains. Explorez d’autres initialisations et commentez vos observations.<br/><br/>\n",
    "3. Quels est la nature des états de cette chaine de Markov ? Est-elle périodique ? Est-elle irréductible ?<br/><br/>\n",
    "4. Calculer la distribution de probabilité stationnaire à partir de la matrice de transition et comparez ce résultat avec les simulations pour t assez grand.\n"
   ],
   "cell_type": "markdown",
   "metadata": {}
  },
  {
   "cell_type": "code",
   "execution_count": null,
   "metadata": {},
   "outputs": [],
   "source": [
    "code"
   ]
  },
  {
   "source": [
    "## `3` Modification du modèle : confinement\n",
    "Cette question est indépendant de la question 2. On peut imaginer que si des mesures de distanciation sociale sont mises en place, la probabilité de devenir infecté est plus faible.\n",
    "Nous allons considérer qu’en période de distanciation la probabilité de devenir infecté quand on est un individu sain est de 0.02.<br/><br/>\n",
    "1. Comment l’épidémie évolue-t-elle si vous modifiez la probabilité pour un individu sain de devenir infecté ? Modifiez le premier modèle pour créer une nouvelle matrice des probabilités de transitions A2, et comparer les simulations au premier modèle.<br/><br/>\n",
    "2. Maintenant nous allons alterner entre les périodes de non distanciation et de distanciation.<br/>\n",
    "— Commencer les simulations avec la matrice A. On peut considérer qu’au temps initial tous les individus sont sains.<br/>\n",
    "— Quand il y a 30% d’individus infectés dans la population, nous passons en période de distanciation, continuer les simulations avec la seconde matrice de transition A2.<br/>\n",
    "— Le nombre d’individus infectés va décroître. Quand il y a moins de 15% d’infectés, le confinement est levé ; on continue les simulations avec la première matrice A.<br/>"
   ],
   "cell_type": "markdown",
   "metadata": {}
  },
  {
   "cell_type": "code",
   "execution_count": null,
   "metadata": {},
   "outputs": [],
   "source": [
    "code"
   ]
  }
 ],
 "metadata": {
  "hide_input": false,
  "kernelspec": {
   "name": "python3",
   "display_name": "Python 3.8.5 64-bit",
   "metadata": {
    "interpreter": {
     "hash": "1baa965d5efe3ac65b79dfc60c0d706280b1da80fedb7760faf2759126c4f253"
    }
   }
  },
  "language_info": {
   "codemirror_mode": {
    "name": "ipython",
    "version": 3
   },
   "file_extension": ".py",
   "mimetype": "text/x-python",
   "name": "python",
   "nbconvert_exporter": "python",
   "pygments_lexer": "ipython3",
   "version": "3.8.5-final"
  }
 },
 "nbformat": 4,
 "nbformat_minor": 4
}